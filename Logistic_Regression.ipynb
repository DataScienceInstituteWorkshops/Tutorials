{
  "nbformat": 4,
  "nbformat_minor": 0,
  "metadata": {
    "colab": {
      "provenance": []
    },
    "kernelspec": {
      "name": "python3",
      "display_name": "Python 3"
    },
    "language_info": {
      "name": "python"
    }
  },
  "cells": [
    {
      "cell_type": "code",
      "execution_count": null,
      "metadata": {
        "id": "Hf6_KZEpBR5Q",
        "colab": {
          "base_uri": "https://localhost:8080/"
        },
        "outputId": "0cc2d664-74b1-4a23-db83-8b1ad4334184"
      },
      "outputs": [
        {
          "output_type": "stream",
          "name": "stdout",
          "text": [
            "<class 'pandas.core.frame.DataFrame'>\n",
            "RangeIndex: 700 entries, 0 to 699\n",
            "Data columns (total 8 columns):\n",
            " #   Column     Non-Null Count  Dtype  \n",
            "---  ------     --------------  -----  \n",
            " 0   SN         700 non-null    int64  \n",
            " 1   AGE        700 non-null    int64  \n",
            " 2   EMPLOY     700 non-null    int64  \n",
            " 3   ADDRESS    700 non-null    int64  \n",
            " 4   DEBTINC    700 non-null    float64\n",
            " 5   CREDDEBT   700 non-null    float64\n",
            " 6   OTHDEBT    700 non-null    float64\n",
            " 7   DEFAULTER  700 non-null    int64  \n",
            "dtypes: float64(3), int64(5)\n",
            "memory usage: 43.9 KB\n"
          ]
        }
      ],
      "source": [
        "import pandas as pd\n",
        "bankloan=pd.read_csv('/content/BANK LOAN.csv')\n",
        "\n",
        "bankloan.info()"
      ]
    },
    {
      "cell_type": "code",
      "source": [
        "bankloan['AGE']=bankloan['AGE'].astype('category')\n",
        "\n",
        "bankloan.info()"
      ],
      "metadata": {
        "id": "q_brd5AZBdiJ",
        "colab": {
          "base_uri": "https://localhost:8080/"
        },
        "outputId": "fe7ecba6-a7ed-4e5f-d3f9-372c832dbf7d"
      },
      "execution_count": null,
      "outputs": [
        {
          "output_type": "stream",
          "name": "stdout",
          "text": [
            "<class 'pandas.core.frame.DataFrame'>\n",
            "RangeIndex: 700 entries, 0 to 699\n",
            "Data columns (total 8 columns):\n",
            " #   Column     Non-Null Count  Dtype   \n",
            "---  ------     --------------  -----   \n",
            " 0   SN         700 non-null    int64   \n",
            " 1   AGE        700 non-null    category\n",
            " 2   EMPLOY     700 non-null    int64   \n",
            " 3   ADDRESS    700 non-null    int64   \n",
            " 4   DEBTINC    700 non-null    float64 \n",
            " 5   CREDDEBT   700 non-null    float64 \n",
            " 6   OTHDEBT    700 non-null    float64 \n",
            " 7   DEFAULTER  700 non-null    int64   \n",
            "dtypes: category(1), float64(3), int64(4)\n",
            "memory usage: 39.2 KB\n"
          ]
        }
      ]
    },
    {
      "cell_type": "code",
      "source": [
        "import statsmodels.formula.api as smf\n",
        "\n",
        "riskmodel = smf.logit(formula = 'DEFAULTER ~ AGE + EMPLOY + ADDRESS + DEBTINC + CREDDEBT + OTHDEBT', data = bankloan).fit()"
      ],
      "metadata": {
        "id": "jzcBf4-zBdo5",
        "colab": {
          "base_uri": "https://localhost:8080/"
        },
        "outputId": "c0ea6324-ea49-48a4-ade1-7c57392927b0"
      },
      "execution_count": null,
      "outputs": [
        {
          "output_type": "stream",
          "name": "stdout",
          "text": [
            "Optimization terminated successfully.\n",
            "         Current function value: 0.395291\n",
            "         Iterations 7\n"
          ]
        }
      ]
    },
    {
      "cell_type": "code",
      "source": [
        "riskmodel.summary()"
      ],
      "metadata": {
        "id": "tF85YBxkBdtW",
        "colab": {
          "base_uri": "https://localhost:8080/",
          "height": 373
        },
        "outputId": "4c9af5d9-7f55-4db1-b448-f8241eb12927"
      },
      "execution_count": null,
      "outputs": [
        {
          "output_type": "execute_result",
          "data": {
            "text/plain": [
              "<class 'statsmodels.iolib.summary.Summary'>\n",
              "\"\"\"\n",
              "                           Logit Regression Results                           \n",
              "==============================================================================\n",
              "Dep. Variable:              DEFAULTER   No. Observations:                  700\n",
              "Model:                          Logit   Df Residuals:                      692\n",
              "Method:                           MLE   Df Model:                            7\n",
              "Date:                Fri, 12 May 2023   Pseudo R-squ.:                  0.3120\n",
              "Time:                        15:24:15   Log-Likelihood:                -276.70\n",
              "converged:                       True   LL-Null:                       -402.18\n",
              "Covariance Type:            nonrobust   LLR p-value:                 1.733e-50\n",
              "==============================================================================\n",
              "                 coef    std err          z      P>|z|      [0.025      0.975]\n",
              "------------------------------------------------------------------------------\n",
              "Intercept     -0.7882      0.264     -2.985      0.003      -1.306      -0.271\n",
              "AGE[T.2]       0.2520      0.267      0.946      0.344      -0.270       0.774\n",
              "AGE[T.3]       0.6271      0.361      1.739      0.082      -0.080       1.334\n",
              "EMPLOY        -0.2617      0.032     -8.211      0.000      -0.324      -0.199\n",
              "ADDRESS       -0.0996      0.022     -4.459      0.000      -0.143      -0.056\n",
              "DEBTINC        0.0851      0.022      3.845      0.000       0.042       0.128\n",
              "CREDDEBT       0.5634      0.089      6.347      0.000       0.389       0.737\n",
              "OTHDEBT        0.0231      0.057      0.405      0.685      -0.089       0.135\n",
              "==============================================================================\n",
              "\"\"\""
            ],
            "text/html": [
              "<table class=\"simpletable\">\n",
              "<caption>Logit Regression Results</caption>\n",
              "<tr>\n",
              "  <th>Dep. Variable:</th>       <td>DEFAULTER</td>    <th>  No. Observations:  </th>  <td>   700</td>  \n",
              "</tr>\n",
              "<tr>\n",
              "  <th>Model:</th>                 <td>Logit</td>      <th>  Df Residuals:      </th>  <td>   692</td>  \n",
              "</tr>\n",
              "<tr>\n",
              "  <th>Method:</th>                 <td>MLE</td>       <th>  Df Model:          </th>  <td>     7</td>  \n",
              "</tr>\n",
              "<tr>\n",
              "  <th>Date:</th>            <td>Fri, 12 May 2023</td> <th>  Pseudo R-squ.:     </th>  <td>0.3120</td>  \n",
              "</tr>\n",
              "<tr>\n",
              "  <th>Time:</th>                <td>15:24:15</td>     <th>  Log-Likelihood:    </th> <td> -276.70</td> \n",
              "</tr>\n",
              "<tr>\n",
              "  <th>converged:</th>             <td>True</td>       <th>  LL-Null:           </th> <td> -402.18</td> \n",
              "</tr>\n",
              "<tr>\n",
              "  <th>Covariance Type:</th>     <td>nonrobust</td>    <th>  LLR p-value:       </th> <td>1.733e-50</td>\n",
              "</tr>\n",
              "</table>\n",
              "<table class=\"simpletable\">\n",
              "<tr>\n",
              "      <td></td>         <th>coef</th>     <th>std err</th>      <th>z</th>      <th>P>|z|</th>  <th>[0.025</th>    <th>0.975]</th>  \n",
              "</tr>\n",
              "<tr>\n",
              "  <th>Intercept</th> <td>   -0.7882</td> <td>    0.264</td> <td>   -2.985</td> <td> 0.003</td> <td>   -1.306</td> <td>   -0.271</td>\n",
              "</tr>\n",
              "<tr>\n",
              "  <th>AGE[T.2]</th>  <td>    0.2520</td> <td>    0.267</td> <td>    0.946</td> <td> 0.344</td> <td>   -0.270</td> <td>    0.774</td>\n",
              "</tr>\n",
              "<tr>\n",
              "  <th>AGE[T.3]</th>  <td>    0.6271</td> <td>    0.361</td> <td>    1.739</td> <td> 0.082</td> <td>   -0.080</td> <td>    1.334</td>\n",
              "</tr>\n",
              "<tr>\n",
              "  <th>EMPLOY</th>    <td>   -0.2617</td> <td>    0.032</td> <td>   -8.211</td> <td> 0.000</td> <td>   -0.324</td> <td>   -0.199</td>\n",
              "</tr>\n",
              "<tr>\n",
              "  <th>ADDRESS</th>   <td>   -0.0996</td> <td>    0.022</td> <td>   -4.459</td> <td> 0.000</td> <td>   -0.143</td> <td>   -0.056</td>\n",
              "</tr>\n",
              "<tr>\n",
              "  <th>DEBTINC</th>   <td>    0.0851</td> <td>    0.022</td> <td>    3.845</td> <td> 0.000</td> <td>    0.042</td> <td>    0.128</td>\n",
              "</tr>\n",
              "<tr>\n",
              "  <th>CREDDEBT</th>  <td>    0.5634</td> <td>    0.089</td> <td>    6.347</td> <td> 0.000</td> <td>    0.389</td> <td>    0.737</td>\n",
              "</tr>\n",
              "<tr>\n",
              "  <th>OTHDEBT</th>   <td>    0.0231</td> <td>    0.057</td> <td>    0.405</td> <td> 0.685</td> <td>   -0.089</td> <td>    0.135</td>\n",
              "</tr>\n",
              "</table>"
            ]
          },
          "metadata": {},
          "execution_count": 4
        }
      ]
    },
    {
      "cell_type": "code",
      "source": [
        "riskmodel.pvalues"
      ],
      "metadata": {
        "colab": {
          "base_uri": "https://localhost:8080/"
        },
        "id": "onaR947pkOE5",
        "outputId": "ac21ca00-7989-4456-916c-301160df419f"
      },
      "execution_count": null,
      "outputs": [
        {
          "output_type": "execute_result",
          "data": {
            "text/plain": [
              "Intercept    2.836765e-03\n",
              "AGE[T.2]     3.443260e-01\n",
              "AGE[T.3]     8.201175e-02\n",
              "EMPLOY       2.194584e-16\n",
              "ADDRESS      8.221749e-06\n",
              "DEBTINC      1.204860e-04\n",
              "CREDDEBT     2.200952e-10\n",
              "OTHDEBT      6.851656e-01\n",
              "dtype: float64"
            ]
          },
          "metadata": {},
          "execution_count": 5
        }
      ]
    },
    {
      "cell_type": "code",
      "source": [
        "riskmodel = smf.logit(formula = 'DEFAULTER ~  EMPLOY + ADDRESS + DEBTINC + CREDDEBT', data = bankloan).fit()\n",
        "\n",
        "riskmodel.pvalues"
      ],
      "metadata": {
        "id": "pG0jcWyrBdxG",
        "colab": {
          "base_uri": "https://localhost:8080/"
        },
        "outputId": "a3eeb08b-07de-4366-faa0-1b1ee455a2e8"
      },
      "execution_count": null,
      "outputs": [
        {
          "output_type": "stream",
          "name": "stdout",
          "text": [
            "Optimization terminated successfully.\n",
            "         Current function value: 0.397671\n",
            "         Iterations 7\n"
          ]
        },
        {
          "output_type": "execute_result",
          "data": {
            "text/plain": [
              "Intercept    1.661361e-03\n",
              "EMPLOY       5.321029e-18\n",
              "ADDRESS      3.407071e-05\n",
              "DEBTINC      1.933174e-06\n",
              "CREDDEBT     5.173667e-11\n",
              "dtype: float64"
            ]
          },
          "metadata": {},
          "execution_count": 6
        }
      ]
    },
    {
      "cell_type": "code",
      "source": [
        "import numpy as np\n",
        "conf = riskmodel.conf_int()\n",
        "conf['OR'] = riskmodel.params\n",
        "conf.columns = ['2.5%', '97.5%', 'OR']\n",
        "print(np.exp(conf))"
      ],
      "metadata": {
        "id": "cIW2bVBkBd0e",
        "colab": {
          "base_uri": "https://localhost:8080/"
        },
        "outputId": "09096951-2e74-432f-85e2-4e80b96c76f8"
      },
      "execution_count": null,
      "outputs": [
        {
          "output_type": "stream",
          "name": "stdout",
          "text": [
            "               2.5%     97.5%        OR\n",
            "Intercept  0.276905  0.742255  0.453359\n",
            "EMPLOY     0.742617  0.828950  0.784597\n",
            "ADDRESS    0.887246  0.958093  0.921989\n",
            "DEBTINC    1.053295  1.132703  1.092278\n",
            "CREDDEBT   1.494635  2.104150  1.773397\n"
          ]
        }
      ]
    },
    {
      "cell_type": "code",
      "source": [
        "bankloan = bankloan.assign(pred=pd.Series(riskmodel.predict()))\n",
        "bankloan.head(10)"
      ],
      "metadata": {
        "id": "0s0nX_KqBd4W",
        "colab": {
          "base_uri": "https://localhost:8080/",
          "height": 362
        },
        "outputId": "17b13cdf-d407-445c-9dfb-53a3d592d2fb"
      },
      "execution_count": null,
      "outputs": [
        {
          "output_type": "execute_result",
          "data": {
            "text/plain": [
              "   SN AGE  EMPLOY  ADDRESS  DEBTINC  CREDDEBT  OTHDEBT  DEFAULTER      pred\n",
              "0   1   3      17       12      9.3     11.36     5.01          1  0.808347\n",
              "1   2   1      10        6     17.3      1.36     4.00          0  0.198115\n",
              "2   3   2      15       14      5.5      0.86     2.17          0  0.010063\n",
              "3   4   3      15       14      2.9      2.66     0.82          0  0.022160\n",
              "4   5   1       2        0     17.3      1.79     3.06          1  0.781808\n",
              "5   6   3       5        5     10.2      0.39     2.16          0  0.216468\n",
              "6   7   2      20        9     30.6      3.83    16.67          0  0.185632\n",
              "7   8   3      12       11      3.6      0.13     1.24          0  0.014726\n",
              "8   9   1       3        4     24.4      1.36     3.28          1  0.748213\n",
              "9  10   2       0       13     19.7      2.78     2.15          0  0.815256"
            ],
            "text/html": [
              "\n",
              "  <div id=\"df-2371b207-2b6d-4ff9-abeb-cd7bb4b3167e\">\n",
              "    <div class=\"colab-df-container\">\n",
              "      <div>\n",
              "<style scoped>\n",
              "    .dataframe tbody tr th:only-of-type {\n",
              "        vertical-align: middle;\n",
              "    }\n",
              "\n",
              "    .dataframe tbody tr th {\n",
              "        vertical-align: top;\n",
              "    }\n",
              "\n",
              "    .dataframe thead th {\n",
              "        text-align: right;\n",
              "    }\n",
              "</style>\n",
              "<table border=\"1\" class=\"dataframe\">\n",
              "  <thead>\n",
              "    <tr style=\"text-align: right;\">\n",
              "      <th></th>\n",
              "      <th>SN</th>\n",
              "      <th>AGE</th>\n",
              "      <th>EMPLOY</th>\n",
              "      <th>ADDRESS</th>\n",
              "      <th>DEBTINC</th>\n",
              "      <th>CREDDEBT</th>\n",
              "      <th>OTHDEBT</th>\n",
              "      <th>DEFAULTER</th>\n",
              "      <th>pred</th>\n",
              "    </tr>\n",
              "  </thead>\n",
              "  <tbody>\n",
              "    <tr>\n",
              "      <th>0</th>\n",
              "      <td>1</td>\n",
              "      <td>3</td>\n",
              "      <td>17</td>\n",
              "      <td>12</td>\n",
              "      <td>9.3</td>\n",
              "      <td>11.36</td>\n",
              "      <td>5.01</td>\n",
              "      <td>1</td>\n",
              "      <td>0.808347</td>\n",
              "    </tr>\n",
              "    <tr>\n",
              "      <th>1</th>\n",
              "      <td>2</td>\n",
              "      <td>1</td>\n",
              "      <td>10</td>\n",
              "      <td>6</td>\n",
              "      <td>17.3</td>\n",
              "      <td>1.36</td>\n",
              "      <td>4.00</td>\n",
              "      <td>0</td>\n",
              "      <td>0.198115</td>\n",
              "    </tr>\n",
              "    <tr>\n",
              "      <th>2</th>\n",
              "      <td>3</td>\n",
              "      <td>2</td>\n",
              "      <td>15</td>\n",
              "      <td>14</td>\n",
              "      <td>5.5</td>\n",
              "      <td>0.86</td>\n",
              "      <td>2.17</td>\n",
              "      <td>0</td>\n",
              "      <td>0.010063</td>\n",
              "    </tr>\n",
              "    <tr>\n",
              "      <th>3</th>\n",
              "      <td>4</td>\n",
              "      <td>3</td>\n",
              "      <td>15</td>\n",
              "      <td>14</td>\n",
              "      <td>2.9</td>\n",
              "      <td>2.66</td>\n",
              "      <td>0.82</td>\n",
              "      <td>0</td>\n",
              "      <td>0.022160</td>\n",
              "    </tr>\n",
              "    <tr>\n",
              "      <th>4</th>\n",
              "      <td>5</td>\n",
              "      <td>1</td>\n",
              "      <td>2</td>\n",
              "      <td>0</td>\n",
              "      <td>17.3</td>\n",
              "      <td>1.79</td>\n",
              "      <td>3.06</td>\n",
              "      <td>1</td>\n",
              "      <td>0.781808</td>\n",
              "    </tr>\n",
              "    <tr>\n",
              "      <th>5</th>\n",
              "      <td>6</td>\n",
              "      <td>3</td>\n",
              "      <td>5</td>\n",
              "      <td>5</td>\n",
              "      <td>10.2</td>\n",
              "      <td>0.39</td>\n",
              "      <td>2.16</td>\n",
              "      <td>0</td>\n",
              "      <td>0.216468</td>\n",
              "    </tr>\n",
              "    <tr>\n",
              "      <th>6</th>\n",
              "      <td>7</td>\n",
              "      <td>2</td>\n",
              "      <td>20</td>\n",
              "      <td>9</td>\n",
              "      <td>30.6</td>\n",
              "      <td>3.83</td>\n",
              "      <td>16.67</td>\n",
              "      <td>0</td>\n",
              "      <td>0.185632</td>\n",
              "    </tr>\n",
              "    <tr>\n",
              "      <th>7</th>\n",
              "      <td>8</td>\n",
              "      <td>3</td>\n",
              "      <td>12</td>\n",
              "      <td>11</td>\n",
              "      <td>3.6</td>\n",
              "      <td>0.13</td>\n",
              "      <td>1.24</td>\n",
              "      <td>0</td>\n",
              "      <td>0.014726</td>\n",
              "    </tr>\n",
              "    <tr>\n",
              "      <th>8</th>\n",
              "      <td>9</td>\n",
              "      <td>1</td>\n",
              "      <td>3</td>\n",
              "      <td>4</td>\n",
              "      <td>24.4</td>\n",
              "      <td>1.36</td>\n",
              "      <td>3.28</td>\n",
              "      <td>1</td>\n",
              "      <td>0.748213</td>\n",
              "    </tr>\n",
              "    <tr>\n",
              "      <th>9</th>\n",
              "      <td>10</td>\n",
              "      <td>2</td>\n",
              "      <td>0</td>\n",
              "      <td>13</td>\n",
              "      <td>19.7</td>\n",
              "      <td>2.78</td>\n",
              "      <td>2.15</td>\n",
              "      <td>0</td>\n",
              "      <td>0.815256</td>\n",
              "    </tr>\n",
              "  </tbody>\n",
              "</table>\n",
              "</div>\n",
              "      <button class=\"colab-df-convert\" onclick=\"convertToInteractive('df-2371b207-2b6d-4ff9-abeb-cd7bb4b3167e')\"\n",
              "              title=\"Convert this dataframe to an interactive table.\"\n",
              "              style=\"display:none;\">\n",
              "        \n",
              "  <svg xmlns=\"http://www.w3.org/2000/svg\" height=\"24px\"viewBox=\"0 0 24 24\"\n",
              "       width=\"24px\">\n",
              "    <path d=\"M0 0h24v24H0V0z\" fill=\"none\"/>\n",
              "    <path d=\"M18.56 5.44l.94 2.06.94-2.06 2.06-.94-2.06-.94-.94-2.06-.94 2.06-2.06.94zm-11 1L8.5 8.5l.94-2.06 2.06-.94-2.06-.94L8.5 2.5l-.94 2.06-2.06.94zm10 10l.94 2.06.94-2.06 2.06-.94-2.06-.94-.94-2.06-.94 2.06-2.06.94z\"/><path d=\"M17.41 7.96l-1.37-1.37c-.4-.4-.92-.59-1.43-.59-.52 0-1.04.2-1.43.59L10.3 9.45l-7.72 7.72c-.78.78-.78 2.05 0 2.83L4 21.41c.39.39.9.59 1.41.59.51 0 1.02-.2 1.41-.59l7.78-7.78 2.81-2.81c.8-.78.8-2.07 0-2.86zM5.41 20L4 18.59l7.72-7.72 1.47 1.35L5.41 20z\"/>\n",
              "  </svg>\n",
              "      </button>\n",
              "      \n",
              "  <style>\n",
              "    .colab-df-container {\n",
              "      display:flex;\n",
              "      flex-wrap:wrap;\n",
              "      gap: 12px;\n",
              "    }\n",
              "\n",
              "    .colab-df-convert {\n",
              "      background-color: #E8F0FE;\n",
              "      border: none;\n",
              "      border-radius: 50%;\n",
              "      cursor: pointer;\n",
              "      display: none;\n",
              "      fill: #1967D2;\n",
              "      height: 32px;\n",
              "      padding: 0 0 0 0;\n",
              "      width: 32px;\n",
              "    }\n",
              "\n",
              "    .colab-df-convert:hover {\n",
              "      background-color: #E2EBFA;\n",
              "      box-shadow: 0px 1px 2px rgba(60, 64, 67, 0.3), 0px 1px 3px 1px rgba(60, 64, 67, 0.15);\n",
              "      fill: #174EA6;\n",
              "    }\n",
              "\n",
              "    [theme=dark] .colab-df-convert {\n",
              "      background-color: #3B4455;\n",
              "      fill: #D2E3FC;\n",
              "    }\n",
              "\n",
              "    [theme=dark] .colab-df-convert:hover {\n",
              "      background-color: #434B5C;\n",
              "      box-shadow: 0px 1px 3px 1px rgba(0, 0, 0, 0.15);\n",
              "      filter: drop-shadow(0px 1px 2px rgba(0, 0, 0, 0.3));\n",
              "      fill: #FFFFFF;\n",
              "    }\n",
              "  </style>\n",
              "\n",
              "      <script>\n",
              "        const buttonEl =\n",
              "          document.querySelector('#df-2371b207-2b6d-4ff9-abeb-cd7bb4b3167e button.colab-df-convert');\n",
              "        buttonEl.style.display =\n",
              "          google.colab.kernel.accessAllowed ? 'block' : 'none';\n",
              "\n",
              "        async function convertToInteractive(key) {\n",
              "          const element = document.querySelector('#df-2371b207-2b6d-4ff9-abeb-cd7bb4b3167e');\n",
              "          const dataTable =\n",
              "            await google.colab.kernel.invokeFunction('convertToInteractive',\n",
              "                                                     [key], {});\n",
              "          if (!dataTable) return;\n",
              "\n",
              "          const docLinkHtml = 'Like what you see? Visit the ' +\n",
              "            '<a target=\"_blank\" href=https://colab.research.google.com/notebooks/data_table.ipynb>data table notebook</a>'\n",
              "            + ' to learn more about interactive tables.';\n",
              "          element.innerHTML = '';\n",
              "          dataTable['output_type'] = 'display_data';\n",
              "          await google.colab.output.renderOutput(dataTable, element);\n",
              "          const docLink = document.createElement('div');\n",
              "          docLink.innerHTML = docLinkHtml;\n",
              "          element.appendChild(docLink);\n",
              "        }\n",
              "      </script>\n",
              "    </div>\n",
              "  </div>\n",
              "  "
            ]
          },
          "metadata": {},
          "execution_count": 8
        }
      ]
    },
    {
      "cell_type": "code",
      "source": [
        "from sklearn.metrics import confusion_matrix\n",
        "\n",
        "predicted_values1 = riskmodel.predict()\n",
        "threshold=0.3\n",
        "predicted_class1=np.zeros(predicted_values1.shape)\n",
        "predicted_class1[predicted_values1>threshold]=1\n",
        "cm1 = confusion_matrix(bankloan['DEFAULTER'],predicted_class1)\n",
        "print('Confusion Matrix : \\n', cm1)"
      ],
      "metadata": {
        "id": "oqAOOIS6Bd7_",
        "colab": {
          "base_uri": "https://localhost:8080/"
        },
        "outputId": "d60f67d7-2450-4927-a0f0-b929f76a2c4c"
      },
      "execution_count": null,
      "outputs": [
        {
          "output_type": "stream",
          "name": "stdout",
          "text": [
            "Confusion Matrix : \n",
            " [[415 102]\n",
            " [ 45 138]]\n"
          ]
        }
      ]
    },
    {
      "cell_type": "code",
      "source": [
        "sensitivity = cm1[1,1]/(cm1[1,0]+cm1[1,1])\n",
        "print('Sensitivity : ', sensitivity)\n",
        "\n",
        "specificity = cm1[0,0]/(cm1[0,0]+cm1[0,1])\n",
        "print('Specificity : ', specificity )"
      ],
      "metadata": {
        "id": "IPOoJFIKBd_1",
        "colab": {
          "base_uri": "https://localhost:8080/"
        },
        "outputId": "b0ecbd20-4e37-40ff-8c77-7cc85a7d53f0"
      },
      "execution_count": null,
      "outputs": [
        {
          "output_type": "stream",
          "name": "stdout",
          "text": [
            "Sensitivity :  0.7540983606557377\n",
            "Specificity :  0.8027079303675049\n"
          ]
        }
      ]
    },
    {
      "cell_type": "code",
      "source": [
        "from sklearn.metrics import classification_report\n",
        "print(classification_report(bankloan['DEFAULTER'],predicted_class1))"
      ],
      "metadata": {
        "id": "Nrp_91UWBeDV",
        "colab": {
          "base_uri": "https://localhost:8080/"
        },
        "outputId": "e522874c-da1b-4979-a298-f1ff3cd16fce"
      },
      "execution_count": null,
      "outputs": [
        {
          "output_type": "stream",
          "name": "stdout",
          "text": [
            "              precision    recall  f1-score   support\n",
            "\n",
            "           0       0.90      0.80      0.85       517\n",
            "           1       0.57      0.75      0.65       183\n",
            "\n",
            "    accuracy                           0.79       700\n",
            "   macro avg       0.74      0.78      0.75       700\n",
            "weighted avg       0.82      0.79      0.80       700\n",
            "\n"
          ]
        }
      ]
    },
    {
      "cell_type": "code",
      "source": [
        "## Checking Model Performance\n",
        "## ROC\n",
        "import pandas as pd\n",
        "bankloan=pd.read_csv('BANK LOAN.csv’)\n",
        "\n",
        "bankloan['AGE']=bankloan['AGE'].astype('category’)\n",
        "\n",
        "import statsmodels.formula.api as smf\n",
        "riskmodel = smf.logit(formula = 'DEFAULTER ~  EMPLOY + ADDRESS + DEBTINC + CREDDEBT', data = bankloan).fit()\n",
        "\n"
      ],
      "metadata": {
        "id": "-S8fsgCbBeG-"
      },
      "execution_count": null,
      "outputs": []
    },
    {
      "cell_type": "code",
      "source": [
        "from sklearn.metrics import roc_curve, auc\n",
        "bankloan=bankloan.assign(pred=riskmodel.predict())\n",
        "fpr, tpr, thresholds = roc_curve(bankloan['DEFAULTER'], bankloan['pred'])"
      ],
      "metadata": {
        "id": "6aZG9qpSpwzV"
      },
      "execution_count": null,
      "outputs": []
    },
    {
      "cell_type": "code",
      "source": [
        "ruc_auc = auc(fpr,tpr)\n",
        "\n",
        "import matplotlib.pyplot as plt\n",
        "\n",
        "plt.figure()\n",
        "lw = 2\n",
        "plt.plot(fpr, tpr, color='darkorange',lw=lw, label='ROC curve (area = %0.2f)' % ruc_auc)\n",
        "plt.plot([0, 1], [0, 1], color='navy', lw=lw, linestyle='--')\n",
        "plt.xlim([0.0, 1.0]);plt.ylim([0.0, 1.05])\n",
        "plt.xlabel('False Positive Rate');plt.ylabel('True Positive Rate')\n",
        "plt.title('Receiver operating characteristic');plt.legend(loc=\"lower right\")\n",
        "plt.show()\n"
      ],
      "metadata": {
        "id": "677B8_aKBeKV",
        "colab": {
          "base_uri": "https://localhost:8080/",
          "height": 472
        },
        "outputId": "5e893c5d-2a8d-4a29-b366-a05ea8add10b"
      },
      "execution_count": null,
      "outputs": [
        {
          "output_type": "display_data",
          "data": {
            "text/plain": [
              "<Figure size 640x480 with 1 Axes>"
            ],
            "image/png": "[encoded data removed]"
          },
          "metadata": {}
        }
      ]
    },
    {
      "cell_type": "code",
      "source": [
        "print(\"Area under the ROC curve : %f\" % ruc_auc)"
      ],
      "metadata": {
        "id": "BXsVQvf_BeN1",
        "colab": {
          "base_uri": "https://localhost:8080/"
        },
        "outputId": "528f403e-bb74-4767-9818-09b5c2c24c36"
      },
      "execution_count": null,
      "outputs": [
        {
          "output_type": "stream",
          "name": "stdout",
          "text": [
            "Area under the ROC curve : 0.855619\n"
          ]
        }
      ]
    },
    {
      "cell_type": "code",
      "source": [
        "%pip install scikit-plot"
      ],
      "metadata": {
        "colab": {
          "base_uri": "https://localhost:8080/"
        },
        "id": "euTfNzzlt9Qo",
        "outputId": "e61e91ac-0bfb-4275-8a2c-82d5a38cc7e0"
      },
      "execution_count": null,
      "outputs": [
        {
          "output_type": "stream",
          "name": "stdout",
          "text": [
            "Looking in indexes: https://pypi.org/simple, https://us-python.pkg.dev/colab-wheels/public/simple/\n",
            "Collecting scikit-plot\n",
            "  Downloading scikit_plot-0.3.7-py3-none-any.whl (33 kB)\n",
            "Requirement already satisfied: matplotlib>=1.4.0 in /usr/local/lib/python3.10/dist-packages (from scikit-plot) (3.7.1)\n",
            "Requirement already satisfied: scikit-learn>=0.18 in /usr/local/lib/python3.10/dist-packages (from scikit-plot) (1.2.2)\n",
            "Requirement already satisfied: scipy>=0.9 in /usr/local/lib/python3.10/dist-packages (from scikit-plot) (1.10.1)\n",
            "Requirement already satisfied: joblib>=0.10 in /usr/local/lib/python3.10/dist-packages (from scikit-plot) (1.2.0)\n",
            "Requirement already satisfied: contourpy>=1.0.1 in /usr/local/lib/python3.10/dist-packages (from matplotlib>=1.4.0->scikit-plot) (1.0.7)\n",
            "Requirement already satisfied: cycler>=0.10 in /usr/local/lib/python3.10/dist-packages (from matplotlib>=1.4.0->scikit-plot) (0.11.0)\n",
            "Requirement already satisfied: fonttools>=4.22.0 in /usr/local/lib/python3.10/dist-packages (from matplotlib>=1.4.0->scikit-plot) (4.39.3)\n",
            "Requirement already satisfied: kiwisolver>=1.0.1 in /usr/local/lib/python3.10/dist-packages (from matplotlib>=1.4.0->scikit-plot) (1.4.4)\n",
            "Requirement already satisfied: numpy>=1.20 in /usr/local/lib/python3.10/dist-packages (from matplotlib>=1.4.0->scikit-plot) (1.22.4)\n",
            "Requirement already satisfied: packaging>=20.0 in /usr/local/lib/python3.10/dist-packages (from matplotlib>=1.4.0->scikit-plot) (23.1)\n",
            "Requirement already satisfied: pillow>=6.2.0 in /usr/local/lib/python3.10/dist-packages (from matplotlib>=1.4.0->scikit-plot) (8.4.0)\n",
            "Requirement already satisfied: pyparsing>=2.3.1 in /usr/local/lib/python3.10/dist-packages (from matplotlib>=1.4.0->scikit-plot) (3.0.9)\n",
            "Requirement already satisfied: python-dateutil>=2.7 in /usr/local/lib/python3.10/dist-packages (from matplotlib>=1.4.0->scikit-plot) (2.8.2)\n",
            "Requirement already satisfied: threadpoolctl>=2.0.0 in /usr/local/lib/python3.10/dist-packages (from scikit-learn>=0.18->scikit-plot) (3.1.0)\n",
            "Requirement already satisfied: six>=1.5 in /usr/local/lib/python3.10/dist-packages (from python-dateutil>=2.7->matplotlib>=1.4.0->scikit-plot) (1.16.0)\n",
            "Installing collected packages: scikit-plot\n",
            "Successfully installed scikit-plot-0.3.7\n"
          ]
        }
      ]
    },
    {
      "cell_type": "code",
      "source": [
        "## Lift Curve\n",
        "from sklearn.linear_model import LogisticRegression\n",
        "import matplotlib.pyplot as plt\n",
        "import scikitplot as skplt\n",
        "\n",
        "X = bankloan[['EMPLOY', 'ADDRESS', 'DEBTINC', 'CREDDEBT']]\n",
        "y = bankloan[['DEFAULTER']]\n",
        "log_model = LogisticRegression()\n",
        "log_model.fit(X,y)\n",
        "pred_log = log_model.predict_proba(X)\n",
        "\n",
        "skplt.metrics.plot_lift_curve(y, pred_log)\n",
        "plt.show()\n"
      ],
      "metadata": {
        "id": "U6LD2lGoBeRJ",
        "colab": {
          "base_uri": "https://localhost:8080/",
          "height": 528
        },
        "outputId": "41579622-5f78-4a5f-bf1b-601a8aa3636c"
      },
      "execution_count": null,
      "outputs": [
        {
          "output_type": "stream",
          "name": "stderr",
          "text": [
            "/usr/local/lib/python3.10/dist-packages/sklearn/utils/validation.py:1143: DataConversionWarning: A column-vector y was passed when a 1d array was expected. Please change the shape of y to (n_samples, ), for example using ravel().\n",
            "  y = column_or_1d(y, warn=True)\n"
          ]
        },
        {
          "output_type": "display_data",
          "data": {
            "text/plain": [
              "<Figure size 640x480 with 1 Axes>"
            ],
            "image/png": "[encoded data removed]"
          },
          "metadata": {}
        }
      ]
    },
    {
      "cell_type": "code",
      "source": [
        "## Kolmogorov-Smirnov Statistic (measure to assess predictive power for marketing or credit risk models)\n",
        "from scipy.stats import ks_2samp\n",
        "ks_2samp(bankloan.loc[bankloan.DEFAULTER==0,'pred'], bankloan.loc[bankloan.DEFAULTER==1,'pred'])\n"
      ],
      "metadata": {
        "id": "2qHLjwhRBeVC",
        "colab": {
          "base_uri": "https://localhost:8080/"
        },
        "outputId": "94e49934-54f9-454d-eeed-532ee1f09857"
      },
      "execution_count": null,
      "outputs": [
        {
          "output_type": "execute_result",
          "data": {
            "text/plain": [
              "KstestResult(statistic=0.561552039403452, pvalue=4.984622730585168e-40, statistic_location=0.18623437807769838, statistic_sign=1)"
            ]
          },
          "metadata": {},
          "execution_count": 21
        }
      ]
    },
    {
      "cell_type": "code",
      "source": [
        "## Pearson Residuals\n",
        "bankloan=bankloan.assign(resid=riskmodel.resid_pearson)\n",
        "\n",
        "bankloan.head()"
      ],
      "metadata": {
        "id": "rrlti998BeYt",
        "colab": {
          "base_uri": "https://localhost:8080/",
          "height": 206
        },
        "outputId": "56324402-d1e3-4d03-92c5-1d98f82cd7eb"
      },
      "execution_count": null,
      "outputs": [
        {
          "output_type": "execute_result",
          "data": {
            "text/plain": [
              "   SN AGE  EMPLOY  ADDRESS  DEBTINC  CREDDEBT  OTHDEBT  DEFAULTER      pred  \\\n",
              "0   1   3      17       12      9.3     11.36     5.01          1  0.808347   \n",
              "1   2   1      10        6     17.3      1.36     4.00          0  0.198115   \n",
              "2   3   2      15       14      5.5      0.86     2.17          0  0.010063   \n",
              "3   4   3      15       14      2.9      2.66     0.82          0  0.022160   \n",
              "4   5   1       2        0     17.3      1.79     3.06          1  0.781808   \n",
              "\n",
              "      resid  \n",
              "0  0.486922  \n",
              "1 -0.497052  \n",
              "2 -0.100822  \n",
              "3 -0.150539  \n",
              "4  0.528286  "
            ],
            "text/html": [
              "\n",
              "  <div id=\"df-cc17f2ef-e14d-4ed9-ab11-e245051f33f0\">\n",
              "    <div class=\"colab-df-container\">\n",
              "      <div>\n",
              "<style scoped>\n",
              "    .dataframe tbody tr th:only-of-type {\n",
              "        vertical-align: middle;\n",
              "    }\n",
              "\n",
              "    .dataframe tbody tr th {\n",
              "        vertical-align: top;\n",
              "    }\n",
              "\n",
              "    .dataframe thead th {\n",
              "        text-align: right;\n",
              "    }\n",
              "</style>\n",
              "<table border=\"1\" class=\"dataframe\">\n",
              "  <thead>\n",
              "    <tr style=\"text-align: right;\">\n",
              "      <th></th>\n",
              "      <th>SN</th>\n",
              "      <th>AGE</th>\n",
              "      <th>EMPLOY</th>\n",
              "      <th>ADDRESS</th>\n",
              "      <th>DEBTINC</th>\n",
              "      <th>CREDDEBT</th>\n",
              "      <th>OTHDEBT</th>\n",
              "      <th>DEFAULTER</th>\n",
              "      <th>pred</th>\n",
              "      <th>resid</th>\n",
              "    </tr>\n",
              "  </thead>\n",
              "  <tbody>\n",
              "    <tr>\n",
              "      <th>0</th>\n",
              "      <td>1</td>\n",
              "      <td>3</td>\n",
              "      <td>17</td>\n",
              "      <td>12</td>\n",
              "      <td>9.3</td>\n",
              "      <td>11.36</td>\n",
              "      <td>5.01</td>\n",
              "      <td>1</td>\n",
              "      <td>0.808347</td>\n",
              "      <td>0.486922</td>\n",
              "    </tr>\n",
              "    <tr>\n",
              "      <th>1</th>\n",
              "      <td>2</td>\n",
              "      <td>1</td>\n",
              "      <td>10</td>\n",
              "      <td>6</td>\n",
              "      <td>17.3</td>\n",
              "      <td>1.36</td>\n",
              "      <td>4.00</td>\n",
              "      <td>0</td>\n",
              "      <td>0.198115</td>\n",
              "      <td>-0.497052</td>\n",
              "    </tr>\n",
              "    <tr>\n",
              "      <th>2</th>\n",
              "      <td>3</td>\n",
              "      <td>2</td>\n",
              "      <td>15</td>\n",
              "      <td>14</td>\n",
              "      <td>5.5</td>\n",
              "      <td>0.86</td>\n",
              "      <td>2.17</td>\n",
              "      <td>0</td>\n",
              "      <td>0.010063</td>\n",
              "      <td>-0.100822</td>\n",
              "    </tr>\n",
              "    <tr>\n",
              "      <th>3</th>\n",
              "      <td>4</td>\n",
              "      <td>3</td>\n",
              "      <td>15</td>\n",
              "      <td>14</td>\n",
              "      <td>2.9</td>\n",
              "      <td>2.66</td>\n",
              "      <td>0.82</td>\n",
              "      <td>0</td>\n",
              "      <td>0.022160</td>\n",
              "      <td>-0.150539</td>\n",
              "    </tr>\n",
              "    <tr>\n",
              "      <th>4</th>\n",
              "      <td>5</td>\n",
              "      <td>1</td>\n",
              "      <td>2</td>\n",
              "      <td>0</td>\n",
              "      <td>17.3</td>\n",
              "      <td>1.79</td>\n",
              "      <td>3.06</td>\n",
              "      <td>1</td>\n",
              "      <td>0.781808</td>\n",
              "      <td>0.528286</td>\n",
              "    </tr>\n",
              "  </tbody>\n",
              "</table>\n",
              "</div>\n",
              "      <button class=\"colab-df-convert\" onclick=\"convertToInteractive('df-cc17f2ef-e14d-4ed9-ab11-e245051f33f0')\"\n",
              "              title=\"Convert this dataframe to an interactive table.\"\n",
              "              style=\"display:none;\">\n",
              "        \n",
              "  <svg xmlns=\"http://www.w3.org/2000/svg\" height=\"24px\"viewBox=\"0 0 24 24\"\n",
              "       width=\"24px\">\n",
              "    <path d=\"M0 0h24v24H0V0z\" fill=\"none\"/>\n",
              "    <path d=\"M18.56 5.44l.94 2.06.94-2.06 2.06-.94-2.06-.94-.94-2.06-.94 2.06-2.06.94zm-11 1L8.5 8.5l.94-2.06 2.06-.94-2.06-.94L8.5 2.5l-.94 2.06-2.06.94zm10 10l.94 2.06.94-2.06 2.06-.94-2.06-.94-.94-2.06-.94 2.06-2.06.94z\"/><path d=\"M17.41 7.96l-1.37-1.37c-.4-.4-.92-.59-1.43-.59-.52 0-1.04.2-1.43.59L10.3 9.45l-7.72 7.72c-.78.78-.78 2.05 0 2.83L4 21.41c.39.39.9.59 1.41.59.51 0 1.02-.2 1.41-.59l7.78-7.78 2.81-2.81c.8-.78.8-2.07 0-2.86zM5.41 20L4 18.59l7.72-7.72 1.47 1.35L5.41 20z\"/>\n",
              "  </svg>\n",
              "      </button>\n",
              "      \n",
              "  <style>\n",
              "    .colab-df-container {\n",
              "      display:flex;\n",
              "      flex-wrap:wrap;\n",
              "      gap: 12px;\n",
              "    }\n",
              "\n",
              "    .colab-df-convert {\n",
              "      background-color: #E8F0FE;\n",
              "      border: none;\n",
              "      border-radius: 50%;\n",
              "      cursor: pointer;\n",
              "      display: none;\n",
              "      fill: #1967D2;\n",
              "      height: 32px;\n",
              "      padding: 0 0 0 0;\n",
              "      width: 32px;\n",
              "    }\n",
              "\n",
              "    .colab-df-convert:hover {\n",
              "      background-color: #E2EBFA;\n",
              "      box-shadow: 0px 1px 2px rgba(60, 64, 67, 0.3), 0px 1px 3px 1px rgba(60, 64, 67, 0.15);\n",
              "      fill: #174EA6;\n",
              "    }\n",
              "\n",
              "    [theme=dark] .colab-df-convert {\n",
              "      background-color: #3B4455;\n",
              "      fill: #D2E3FC;\n",
              "    }\n",
              "\n",
              "    [theme=dark] .colab-df-convert:hover {\n",
              "      background-color: #434B5C;\n",
              "      box-shadow: 0px 1px 3px 1px rgba(0, 0, 0, 0.15);\n",
              "      filter: drop-shadow(0px 1px 2px rgba(0, 0, 0, 0.3));\n",
              "      fill: #FFFFFF;\n",
              "    }\n",
              "  </style>\n",
              "\n",
              "      <script>\n",
              "        const buttonEl =\n",
              "          document.querySelector('#df-cc17f2ef-e14d-4ed9-ab11-e245051f33f0 button.colab-df-convert');\n",
              "        buttonEl.style.display =\n",
              "          google.colab.kernel.accessAllowed ? 'block' : 'none';\n",
              "\n",
              "        async function convertToInteractive(key) {\n",
              "          const element = document.querySelector('#df-cc17f2ef-e14d-4ed9-ab11-e245051f33f0');\n",
              "          const dataTable =\n",
              "            await google.colab.kernel.invokeFunction('convertToInteractive',\n",
              "                                                     [key], {});\n",
              "          if (!dataTable) return;\n",
              "\n",
              "          const docLinkHtml = 'Like what you see? Visit the ' +\n",
              "            '<a target=\"_blank\" href=https://colab.research.google.com/notebooks/data_table.ipynb>data table notebook</a>'\n",
              "            + ' to learn more about interactive tables.';\n",
              "          element.innerHTML = '';\n",
              "          dataTable['output_type'] = 'display_data';\n",
              "          await google.colab.output.renderOutput(dataTable, element);\n",
              "          const docLink = document.createElement('div');\n",
              "          docLink.innerHTML = docLinkHtml;\n",
              "          element.appendChild(docLink);\n",
              "        }\n",
              "      </script>\n",
              "    </div>\n",
              "  </div>\n",
              "  "
            ]
          },
          "metadata": {},
          "execution_count": 22
        }
      ]
    },
    {
      "cell_type": "code",
      "source": [
        "import seaborn as sns\n",
        "sns.scatterplot(x='SN',y='resid', data=bankloan); plt.xlabel('SN'); plt.ylabel('residual')"
      ],
      "metadata": {
        "id": "RFKbpVWxBecT",
        "colab": {
          "base_uri": "https://localhost:8080/",
          "height": 469
        },
        "outputId": "ef7e624f-e115-4a4e-f898-6b7e7a9cdea0"
      },
      "execution_count": null,
      "outputs": [
        {
          "output_type": "execute_result",
          "data": {
            "text/plain": [
              "Text(0, 0.5, 'residual')"
            ]
          },
          "metadata": {},
          "execution_count": 28
        },
        {
          "output_type": "display_data",
          "data": {
            "text/plain": [
              "<Figure size 640x480 with 1 Axes>"
            ],
            "image/png": "[encoded data removed]"
          },
          "metadata": {}
        }
      ]
    },
    {
      "cell_type": "code",
      "source": [
        "## MODEL VALIDATION TECHNIQUES (BLR)\n",
        "## HOLD OUT VALIDATION"
      ],
      "metadata": {
        "id": "kTTEuT3OBegw"
      },
      "execution_count": null,
      "outputs": []
    },
    {
      "cell_type": "code",
      "source": [
        "import pandas as pd\n",
        "import numpy as np\n",
        "from sklearn.model_selection import train_test_split\n",
        "import statsmodels.formula.api as smf\n",
        "\n",
        "bankloan=pd.read_csv('BANK LOAN.csv')\n",
        "\n",
        "X_train, X_test = train_test_split(bankloan, test_size=0.3)"
      ],
      "metadata": {
        "id": "LQtLyOr7GQA9"
      },
      "execution_count": null,
      "outputs": []
    },
    {
      "cell_type": "code",
      "source": [
        "X_train.shape"
      ],
      "metadata": {
        "id": "YWDIP8XVGQKQ"
      },
      "execution_count": null,
      "outputs": []
    },
    {
      "cell_type": "code",
      "source": [
        "X_test.shape"
      ],
      "metadata": {
        "id": "9mZPKOKFGQTE"
      },
      "execution_count": null,
      "outputs": []
    },
    {
      "cell_type": "code",
      "source": [
        "riskmodel=smf.logit(formula = 'DEFAULTER ~  EMPLOY + ADDRESS + DEBTINC + CREDDEBT', data = X_train).fit()\n",
        "\n",
        "predicted_values1=riskmodel.predict()\n",
        "threshold=0.3\n",
        "predicted_class1=np.zeros(predicted_values1.shape)\n",
        "predicted_class1[predicted_values1>threshold]=1\n",
        "\n",
        "from sklearn.metrics import classification_report\n",
        "print(classification_report(X_train['DEFAULTER'],predicted_class1))"
      ],
      "metadata": {
        "id": "_RobT1BmG-oz"
      },
      "execution_count": null,
      "outputs": []
    },
    {
      "cell_type": "code",
      "source": [
        "predicted_values1=riskmodel.predict(X_test)\n",
        "threshold=0.3\n",
        "predicted_class1=np.zeros(predicted_values1.shape)\n",
        "predicted_class1[predicted_values1>threshold]=1\n",
        "\n",
        "print(classification_report(X_test['DEFAULTER'],predicted_class1))\n"
      ],
      "metadata": {
        "id": "Tcm2dlHIG-th"
      },
      "execution_count": null,
      "outputs": []
    },
    {
      "cell_type": "code",
      "source": [
        "## K FOLD CROSS VALIDATION"
      ],
      "metadata": {
        "id": "xP7hahnwG-xP"
      },
      "execution_count": null,
      "outputs": []
    },
    {
      "cell_type": "code",
      "source": [
        "from sklearn import linear_model\n",
        "lmreg = linear_model.LogisticRegression()\n",
        "\n",
        "y=bankloan.DEFAULTER\n",
        "X=bankloan[['EMPLOY', 'ADDRESS', 'DEBTINC', 'CREDDEBT']]\n",
        "\n",
        "from sklearn.model_selection import cross_val_predict\n",
        "from sklearn.metrics.classification import cohen_kappa_score\n",
        "\n",
        "predicted_prob = cross_val_predict(lmreg, X, y, cv=4, method='predict_proba') \n",
        "threshold=0.3\n",
        "predicted = predicted_prob[:,1]\n",
        "predicted_class1=np.zeros(predicted.shape)\n",
        "predicted_class1[predicted>threshold]=1\n"
      ],
      "metadata": {
        "id": "XyiLeee6G-0n"
      },
      "execution_count": null,
      "outputs": []
    },
    {
      "cell_type": "code",
      "source": [
        "print(classification_report(y,predicted_class1))"
      ],
      "metadata": {
        "id": "dJnh-nMeG-4Q"
      },
      "execution_count": null,
      "outputs": []
    },
    {
      "cell_type": "code",
      "source": [],
      "metadata": {
        "id": "-Ta4Xnn5G-7n"
      },
      "execution_count": null,
      "outputs": []
    },
    {
      "cell_type": "code",
      "source": [],
      "metadata": {
        "id": "8HqqGYGPG-_P"
      },
      "execution_count": null,
      "outputs": []
    }
  ]
}